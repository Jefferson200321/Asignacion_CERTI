{
 "cells": [
  {
   "cell_type": "markdown",
   "id": "cc1d928e",
   "metadata": {},
   "source": [
    "# Data Science Tools and Ecosystem"
   ]
  },
  {
   "cell_type": "markdown",
   "id": "4c31bc0f",
   "metadata": {},
   "source": [
    "In this notebook, I will summarize some of the key tools, libraries, and languages used in Data Science. This will serve as a reference for anyone interested in the ecosystem of Data Science tools.\n"
   ]
  },
  {
   "cell_type": "markdown",
   "id": "3ab66b5c",
   "metadata": {},
   "source": [
    "## Some of the popular languages that Data Scientists use are:\n",
    "1. Python  \n",
    "2. R  \n",
    "3. SQL  \n",
    "4. Julia  \n",
    "5. Scala\n"
   ]
  },
  {
   "cell_type": "markdown",
   "id": "893b8da0",
   "metadata": {},
   "source": [
    "## Some of the popular languages that Data Scientists use are:\n",
    "1. Python  \n",
    "2. R  \n",
    "3. SQL  \n",
    "4. Julia  \n",
    "5. Scala\n"
   ]
  },
  {
   "cell_type": "markdown",
   "id": "d82f45b7",
   "metadata": {},
   "source": [
    "## Some of the commonly used libraries used by Data Scientists include:\n",
    "1. Pandas  \n",
    "2. NumPy  \n",
    "3. Scikit-learn  \n",
    "4. Matplotlib  \n",
    "5. TensorFlow\n"
   ]
  },
  {
   "cell_type": "markdown",
   "id": "d802ac3d",
   "metadata": {},
   "source": [
    "## Data Science Tools\n",
    "\n",
    "| Tool             | Description                       |\n",
    "|------------------|-----------------------------------|\n",
    "| Jupyter Notebook | Web-based notebook environment    |\n",
    "| RStudio          | IDE for R                         |\n",
    "| VS Code          | Code editor with extensions       |\n"
   ]
  },
  {
   "cell_type": "markdown",
   "id": "3cc2c6d4",
   "metadata": {},
   "source": [
    "### Below are a few examples of evaluating arithmetic expressions in Python:\n"
   ]
  },
  {
   "cell_type": "code",
   "execution_count": 1,
   "id": "8abc7964",
   "metadata": {},
   "outputs": [
    {
     "data": {
      "text/plain": [
       "17"
      ]
     },
     "execution_count": 1,
     "metadata": {},
     "output_type": "execute_result"
    }
   ],
   "source": [
    "# This is a simple arithmetic expression to multiply then add numbers\n",
    "(3 * 4) + 5\n"
   ]
  },
  {
   "cell_type": "code",
   "execution_count": 2,
   "id": "fdd45f18",
   "metadata": {},
   "outputs": [
    {
     "data": {
      "text/plain": [
       "3.3333333333333335"
      ]
     },
     "execution_count": 2,
     "metadata": {},
     "output_type": "execute_result"
    }
   ],
   "source": [
    "# This will convert 200 minutes to hours by dividing by 60\n",
    "200 / 60\n"
   ]
  },
  {
   "cell_type": "code",
   "execution_count": 3,
   "id": "08c4267e",
   "metadata": {},
   "outputs": [
    {
     "name": "stdout",
     "output_type": "stream",
     "text": [
      "- Understand data science tools and concepts\n",
      "- Apply Python and R to basic analysis\n",
      "- Use Jupyter notebooks for reproducible research\n",
      "- Understand basic machine learning workflows\n"
     ]
    }
   ],
   "source": [
    "# Some of the goals of this course are:\n",
    "goals = [\n",
    "    \"Understand data science tools and concepts\",\n",
    "    \"Apply Python and R to basic analysis\",\n",
    "    \"Use Jupyter notebooks for reproducible research\",\n",
    "    \"Understand basic machine learning workflows\"\n",
    "]\n",
    "for goal in goals:\n",
    "    print(\"-\", goal)\n"
   ]
  },
  {
   "cell_type": "markdown",
   "id": "08a87dfe",
   "metadata": {},
   "source": [
    "**Author:** Jefferson Aaron Jimenez Monge  \n",
    "Date: June 2025\n"
   ]
  }
 ],
 "metadata": {
  "kernelspec": {
   "display_name": "Python 3",
   "language": "python",
   "name": "python3"
  },
  "language_info": {
   "codemirror_mode": {
    "name": "ipython",
    "version": 3
   },
   "file_extension": ".py",
   "mimetype": "text/x-python",
   "name": "python",
   "nbconvert_exporter": "python",
   "pygments_lexer": "ipython3",
   "version": "3.13.0"
  }
 },
 "nbformat": 4,
 "nbformat_minor": 5
}
